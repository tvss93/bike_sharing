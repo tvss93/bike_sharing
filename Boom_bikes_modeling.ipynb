{
 "cells": [
  {
   "cell_type": "code",
   "execution_count": 1,
   "metadata": {},
   "outputs": [],
   "source": [
    "import numpy as np\n",
    "import pandas as pd\n",
    "import matplotlib.pyplot as plt\n",
    "import seaborn as sns\n",
    "\n",
    "import sklearn\n",
    "from sklearn.model_selection import train_test_split\n",
    "from sklearn.preprocessing import MinMaxScaler\n",
    "from sklearn.feature_selection import RFE\n",
    "from sklearn.linear_model import LinearRegression\n",
    "import statsmodels.api as sm\n",
    "from statsmodels.stats.outliers_influence import variance_inflation_factor\n",
    "\n",
    "import warnings\n",
    "warnings.filterwarnings('ignore')"
   ]
  },
  {
   "cell_type": "markdown",
   "metadata": {},
   "source": [
    "## 1. EDA"
   ]
  },
  {
   "cell_type": "markdown",
   "metadata": {},
   "source": [
    "Read Data"
   ]
  },
  {
   "cell_type": "code",
   "execution_count": 2,
   "metadata": {
    "scrolled": true
   },
   "outputs": [
    {
     "data": {
      "text/html": [
       "<div>\n",
       "<style scoped>\n",
       "    .dataframe tbody tr th:only-of-type {\n",
       "        vertical-align: middle;\n",
       "    }\n",
       "\n",
       "    .dataframe tbody tr th {\n",
       "        vertical-align: top;\n",
       "    }\n",
       "\n",
       "    .dataframe thead th {\n",
       "        text-align: right;\n",
       "    }\n",
       "</style>\n",
       "<table border=\"1\" class=\"dataframe\">\n",
       "  <thead>\n",
       "    <tr style=\"text-align: right;\">\n",
       "      <th></th>\n",
       "      <th>instant</th>\n",
       "      <th>dteday</th>\n",
       "      <th>season</th>\n",
       "      <th>yr</th>\n",
       "      <th>mnth</th>\n",
       "      <th>holiday</th>\n",
       "      <th>weekday</th>\n",
       "      <th>workingday</th>\n",
       "      <th>weathersit</th>\n",
       "      <th>temp</th>\n",
       "      <th>atemp</th>\n",
       "      <th>hum</th>\n",
       "      <th>windspeed</th>\n",
       "      <th>casual</th>\n",
       "      <th>registered</th>\n",
       "      <th>cnt</th>\n",
       "    </tr>\n",
       "  </thead>\n",
       "  <tbody>\n",
       "    <tr>\n",
       "      <th>0</th>\n",
       "      <td>1</td>\n",
       "      <td>01-01-2018</td>\n",
       "      <td>1</td>\n",
       "      <td>0</td>\n",
       "      <td>1</td>\n",
       "      <td>0</td>\n",
       "      <td>6</td>\n",
       "      <td>0</td>\n",
       "      <td>2</td>\n",
       "      <td>14.110847</td>\n",
       "      <td>18.18125</td>\n",
       "      <td>80.5833</td>\n",
       "      <td>10.749882</td>\n",
       "      <td>331</td>\n",
       "      <td>654</td>\n",
       "      <td>985</td>\n",
       "    </tr>\n",
       "    <tr>\n",
       "      <th>1</th>\n",
       "      <td>2</td>\n",
       "      <td>02-01-2018</td>\n",
       "      <td>1</td>\n",
       "      <td>0</td>\n",
       "      <td>1</td>\n",
       "      <td>0</td>\n",
       "      <td>0</td>\n",
       "      <td>0</td>\n",
       "      <td>2</td>\n",
       "      <td>14.902598</td>\n",
       "      <td>17.68695</td>\n",
       "      <td>69.6087</td>\n",
       "      <td>16.652113</td>\n",
       "      <td>131</td>\n",
       "      <td>670</td>\n",
       "      <td>801</td>\n",
       "    </tr>\n",
       "    <tr>\n",
       "      <th>2</th>\n",
       "      <td>3</td>\n",
       "      <td>03-01-2018</td>\n",
       "      <td>1</td>\n",
       "      <td>0</td>\n",
       "      <td>1</td>\n",
       "      <td>0</td>\n",
       "      <td>1</td>\n",
       "      <td>1</td>\n",
       "      <td>1</td>\n",
       "      <td>8.050924</td>\n",
       "      <td>9.47025</td>\n",
       "      <td>43.7273</td>\n",
       "      <td>16.636703</td>\n",
       "      <td>120</td>\n",
       "      <td>1229</td>\n",
       "      <td>1349</td>\n",
       "    </tr>\n",
       "    <tr>\n",
       "      <th>3</th>\n",
       "      <td>4</td>\n",
       "      <td>04-01-2018</td>\n",
       "      <td>1</td>\n",
       "      <td>0</td>\n",
       "      <td>1</td>\n",
       "      <td>0</td>\n",
       "      <td>2</td>\n",
       "      <td>1</td>\n",
       "      <td>1</td>\n",
       "      <td>8.200000</td>\n",
       "      <td>10.60610</td>\n",
       "      <td>59.0435</td>\n",
       "      <td>10.739832</td>\n",
       "      <td>108</td>\n",
       "      <td>1454</td>\n",
       "      <td>1562</td>\n",
       "    </tr>\n",
       "    <tr>\n",
       "      <th>4</th>\n",
       "      <td>5</td>\n",
       "      <td>05-01-2018</td>\n",
       "      <td>1</td>\n",
       "      <td>0</td>\n",
       "      <td>1</td>\n",
       "      <td>0</td>\n",
       "      <td>3</td>\n",
       "      <td>1</td>\n",
       "      <td>1</td>\n",
       "      <td>9.305237</td>\n",
       "      <td>11.46350</td>\n",
       "      <td>43.6957</td>\n",
       "      <td>12.522300</td>\n",
       "      <td>82</td>\n",
       "      <td>1518</td>\n",
       "      <td>1600</td>\n",
       "    </tr>\n",
       "  </tbody>\n",
       "</table>\n",
       "</div>"
      ],
      "text/plain": [
       "   instant      dteday  season  yr  mnth  holiday  weekday  workingday  \\\n",
       "0        1  01-01-2018       1   0     1        0        6           0   \n",
       "1        2  02-01-2018       1   0     1        0        0           0   \n",
       "2        3  03-01-2018       1   0     1        0        1           1   \n",
       "3        4  04-01-2018       1   0     1        0        2           1   \n",
       "4        5  05-01-2018       1   0     1        0        3           1   \n",
       "\n",
       "   weathersit       temp     atemp      hum  windspeed  casual  registered  \\\n",
       "0           2  14.110847  18.18125  80.5833  10.749882     331         654   \n",
       "1           2  14.902598  17.68695  69.6087  16.652113     131         670   \n",
       "2           1   8.050924   9.47025  43.7273  16.636703     120        1229   \n",
       "3           1   8.200000  10.60610  59.0435  10.739832     108        1454   \n",
       "4           1   9.305237  11.46350  43.6957  12.522300      82        1518   \n",
       "\n",
       "    cnt  \n",
       "0   985  \n",
       "1   801  \n",
       "2  1349  \n",
       "3  1562  \n",
       "4  1600  "
      ]
     },
     "execution_count": 2,
     "metadata": {},
     "output_type": "execute_result"
    }
   ],
   "source": [
    "raw_data = pd.read_csv(r\"day.csv\")\n",
    "raw_data.head()"
   ]
  },
  {
   "cell_type": "code",
   "execution_count": 3,
   "metadata": {
    "scrolled": false
   },
   "outputs": [
    {
     "name": "stdout",
     "output_type": "stream",
     "text": [
      "<class 'pandas.core.frame.DataFrame'>\n",
      "RangeIndex: 730 entries, 0 to 729\n",
      "Data columns (total 16 columns):\n",
      " #   Column      Non-Null Count  Dtype  \n",
      "---  ------      --------------  -----  \n",
      " 0   instant     730 non-null    int64  \n",
      " 1   dteday      730 non-null    object \n",
      " 2   season      730 non-null    int64  \n",
      " 3   yr          730 non-null    int64  \n",
      " 4   mnth        730 non-null    int64  \n",
      " 5   holiday     730 non-null    int64  \n",
      " 6   weekday     730 non-null    int64  \n",
      " 7   workingday  730 non-null    int64  \n",
      " 8   weathersit  730 non-null    int64  \n",
      " 9   temp        730 non-null    float64\n",
      " 10  atemp       730 non-null    float64\n",
      " 11  hum         730 non-null    float64\n",
      " 12  windspeed   730 non-null    float64\n",
      " 13  casual      730 non-null    int64  \n",
      " 14  registered  730 non-null    int64  \n",
      " 15  cnt         730 non-null    int64  \n",
      "dtypes: float64(4), int64(11), object(1)\n",
      "memory usage: 91.4+ KB\n"
     ]
    },
    {
     "data": {
      "text/plain": [
       "((730, 16), None)"
      ]
     },
     "execution_count": 3,
     "metadata": {},
     "output_type": "execute_result"
    }
   ],
   "source": [
    "raw_data.shape, raw_data.info()"
   ]
  },
  {
   "cell_type": "code",
   "execution_count": 4,
   "metadata": {
    "scrolled": true
   },
   "outputs": [
    {
     "data": {
      "text/html": [
       "<div>\n",
       "<style scoped>\n",
       "    .dataframe tbody tr th:only-of-type {\n",
       "        vertical-align: middle;\n",
       "    }\n",
       "\n",
       "    .dataframe tbody tr th {\n",
       "        vertical-align: top;\n",
       "    }\n",
       "\n",
       "    .dataframe thead th {\n",
       "        text-align: right;\n",
       "    }\n",
       "</style>\n",
       "<table border=\"1\" class=\"dataframe\">\n",
       "  <thead>\n",
       "    <tr style=\"text-align: right;\">\n",
       "      <th></th>\n",
       "      <th>instant</th>\n",
       "      <th>season</th>\n",
       "      <th>yr</th>\n",
       "      <th>mnth</th>\n",
       "      <th>holiday</th>\n",
       "      <th>weekday</th>\n",
       "      <th>workingday</th>\n",
       "      <th>weathersit</th>\n",
       "      <th>temp</th>\n",
       "      <th>atemp</th>\n",
       "      <th>hum</th>\n",
       "      <th>windspeed</th>\n",
       "      <th>casual</th>\n",
       "      <th>registered</th>\n",
       "      <th>cnt</th>\n",
       "    </tr>\n",
       "  </thead>\n",
       "  <tbody>\n",
       "    <tr>\n",
       "      <th>count</th>\n",
       "      <td>730.000000</td>\n",
       "      <td>730.000000</td>\n",
       "      <td>730.000000</td>\n",
       "      <td>730.000000</td>\n",
       "      <td>730.000000</td>\n",
       "      <td>730.000000</td>\n",
       "      <td>730.000000</td>\n",
       "      <td>730.000000</td>\n",
       "      <td>730.000000</td>\n",
       "      <td>730.000000</td>\n",
       "      <td>730.000000</td>\n",
       "      <td>730.000000</td>\n",
       "      <td>730.000000</td>\n",
       "      <td>730.000000</td>\n",
       "      <td>730.000000</td>\n",
       "    </tr>\n",
       "    <tr>\n",
       "      <th>mean</th>\n",
       "      <td>365.500000</td>\n",
       "      <td>2.498630</td>\n",
       "      <td>0.500000</td>\n",
       "      <td>6.526027</td>\n",
       "      <td>0.028767</td>\n",
       "      <td>2.997260</td>\n",
       "      <td>0.683562</td>\n",
       "      <td>1.394521</td>\n",
       "      <td>20.319259</td>\n",
       "      <td>23.726322</td>\n",
       "      <td>62.765175</td>\n",
       "      <td>12.763620</td>\n",
       "      <td>849.249315</td>\n",
       "      <td>3658.757534</td>\n",
       "      <td>4508.006849</td>\n",
       "    </tr>\n",
       "    <tr>\n",
       "      <th>std</th>\n",
       "      <td>210.877136</td>\n",
       "      <td>1.110184</td>\n",
       "      <td>0.500343</td>\n",
       "      <td>3.450215</td>\n",
       "      <td>0.167266</td>\n",
       "      <td>2.006161</td>\n",
       "      <td>0.465405</td>\n",
       "      <td>0.544807</td>\n",
       "      <td>7.506729</td>\n",
       "      <td>8.150308</td>\n",
       "      <td>14.237589</td>\n",
       "      <td>5.195841</td>\n",
       "      <td>686.479875</td>\n",
       "      <td>1559.758728</td>\n",
       "      <td>1936.011647</td>\n",
       "    </tr>\n",
       "    <tr>\n",
       "      <th>min</th>\n",
       "      <td>1.000000</td>\n",
       "      <td>1.000000</td>\n",
       "      <td>0.000000</td>\n",
       "      <td>1.000000</td>\n",
       "      <td>0.000000</td>\n",
       "      <td>0.000000</td>\n",
       "      <td>0.000000</td>\n",
       "      <td>1.000000</td>\n",
       "      <td>2.424346</td>\n",
       "      <td>3.953480</td>\n",
       "      <td>0.000000</td>\n",
       "      <td>1.500244</td>\n",
       "      <td>2.000000</td>\n",
       "      <td>20.000000</td>\n",
       "      <td>22.000000</td>\n",
       "    </tr>\n",
       "    <tr>\n",
       "      <th>25%</th>\n",
       "      <td>183.250000</td>\n",
       "      <td>2.000000</td>\n",
       "      <td>0.000000</td>\n",
       "      <td>4.000000</td>\n",
       "      <td>0.000000</td>\n",
       "      <td>1.000000</td>\n",
       "      <td>0.000000</td>\n",
       "      <td>1.000000</td>\n",
       "      <td>13.811885</td>\n",
       "      <td>16.889713</td>\n",
       "      <td>52.000000</td>\n",
       "      <td>9.041650</td>\n",
       "      <td>316.250000</td>\n",
       "      <td>2502.250000</td>\n",
       "      <td>3169.750000</td>\n",
       "    </tr>\n",
       "    <tr>\n",
       "      <th>50%</th>\n",
       "      <td>365.500000</td>\n",
       "      <td>3.000000</td>\n",
       "      <td>0.500000</td>\n",
       "      <td>7.000000</td>\n",
       "      <td>0.000000</td>\n",
       "      <td>3.000000</td>\n",
       "      <td>1.000000</td>\n",
       "      <td>1.000000</td>\n",
       "      <td>20.465826</td>\n",
       "      <td>24.368225</td>\n",
       "      <td>62.625000</td>\n",
       "      <td>12.125325</td>\n",
       "      <td>717.000000</td>\n",
       "      <td>3664.500000</td>\n",
       "      <td>4548.500000</td>\n",
       "    </tr>\n",
       "    <tr>\n",
       "      <th>75%</th>\n",
       "      <td>547.750000</td>\n",
       "      <td>3.000000</td>\n",
       "      <td>1.000000</td>\n",
       "      <td>10.000000</td>\n",
       "      <td>0.000000</td>\n",
       "      <td>5.000000</td>\n",
       "      <td>1.000000</td>\n",
       "      <td>2.000000</td>\n",
       "      <td>26.880615</td>\n",
       "      <td>30.445775</td>\n",
       "      <td>72.989575</td>\n",
       "      <td>15.625589</td>\n",
       "      <td>1096.500000</td>\n",
       "      <td>4783.250000</td>\n",
       "      <td>5966.000000</td>\n",
       "    </tr>\n",
       "    <tr>\n",
       "      <th>max</th>\n",
       "      <td>730.000000</td>\n",
       "      <td>4.000000</td>\n",
       "      <td>1.000000</td>\n",
       "      <td>12.000000</td>\n",
       "      <td>1.000000</td>\n",
       "      <td>6.000000</td>\n",
       "      <td>1.000000</td>\n",
       "      <td>3.000000</td>\n",
       "      <td>35.328347</td>\n",
       "      <td>42.044800</td>\n",
       "      <td>97.250000</td>\n",
       "      <td>34.000021</td>\n",
       "      <td>3410.000000</td>\n",
       "      <td>6946.000000</td>\n",
       "      <td>8714.000000</td>\n",
       "    </tr>\n",
       "  </tbody>\n",
       "</table>\n",
       "</div>"
      ],
      "text/plain": [
       "          instant      season          yr        mnth     holiday     weekday  \\\n",
       "count  730.000000  730.000000  730.000000  730.000000  730.000000  730.000000   \n",
       "mean   365.500000    2.498630    0.500000    6.526027    0.028767    2.997260   \n",
       "std    210.877136    1.110184    0.500343    3.450215    0.167266    2.006161   \n",
       "min      1.000000    1.000000    0.000000    1.000000    0.000000    0.000000   \n",
       "25%    183.250000    2.000000    0.000000    4.000000    0.000000    1.000000   \n",
       "50%    365.500000    3.000000    0.500000    7.000000    0.000000    3.000000   \n",
       "75%    547.750000    3.000000    1.000000   10.000000    0.000000    5.000000   \n",
       "max    730.000000    4.000000    1.000000   12.000000    1.000000    6.000000   \n",
       "\n",
       "       workingday  weathersit        temp       atemp         hum   windspeed  \\\n",
       "count  730.000000  730.000000  730.000000  730.000000  730.000000  730.000000   \n",
       "mean     0.683562    1.394521   20.319259   23.726322   62.765175   12.763620   \n",
       "std      0.465405    0.544807    7.506729    8.150308   14.237589    5.195841   \n",
       "min      0.000000    1.000000    2.424346    3.953480    0.000000    1.500244   \n",
       "25%      0.000000    1.000000   13.811885   16.889713   52.000000    9.041650   \n",
       "50%      1.000000    1.000000   20.465826   24.368225   62.625000   12.125325   \n",
       "75%      1.000000    2.000000   26.880615   30.445775   72.989575   15.625589   \n",
       "max      1.000000    3.000000   35.328347   42.044800   97.250000   34.000021   \n",
       "\n",
       "            casual   registered          cnt  \n",
       "count   730.000000   730.000000   730.000000  \n",
       "mean    849.249315  3658.757534  4508.006849  \n",
       "std     686.479875  1559.758728  1936.011647  \n",
       "min       2.000000    20.000000    22.000000  \n",
       "25%     316.250000  2502.250000  3169.750000  \n",
       "50%     717.000000  3664.500000  4548.500000  \n",
       "75%    1096.500000  4783.250000  5966.000000  \n",
       "max    3410.000000  6946.000000  8714.000000  "
      ]
     },
     "execution_count": 4,
     "metadata": {},
     "output_type": "execute_result"
    }
   ],
   "source": [
    "raw_data.describe()"
   ]
  },
  {
   "cell_type": "code",
   "execution_count": 5,
   "metadata": {
    "scrolled": false
   },
   "outputs": [
    {
     "data": {
      "text/plain": [
       "instant       0\n",
       "dteday        0\n",
       "season        0\n",
       "yr            0\n",
       "mnth          0\n",
       "holiday       0\n",
       "weekday       0\n",
       "workingday    0\n",
       "weathersit    0\n",
       "temp          0\n",
       "atemp         0\n",
       "hum           0\n",
       "windspeed     0\n",
       "casual        0\n",
       "registered    0\n",
       "cnt           0\n",
       "dtype: int64"
      ]
     },
     "execution_count": 5,
     "metadata": {},
     "output_type": "execute_result"
    }
   ],
   "source": [
    "raw_data.isnull().sum() #no null values\n"
   ]
  },
  {
   "cell_type": "code",
   "execution_count": 6,
   "metadata": {},
   "outputs": [
    {
     "data": {
      "text/plain": [
       "0"
      ]
     },
     "execution_count": 6,
     "metadata": {},
     "output_type": "execute_result"
    }
   ],
   "source": [
    "(raw_data['casual'] + raw_data['registered'] - raw_data['cnt']).sum() # The target variable cnt is sum of casual and registered, so it can be ignored"
   ]
  },
  {
   "cell_type": "code",
   "execution_count": 7,
   "metadata": {},
   "outputs": [],
   "source": [
    "numeric_var = ['temp','atemp', 'hum', 'windspeed']\n",
    "cat_var = ['season','yr','mnth','holiday','weekday','workingday','weathersit']\n",
    "target_var = ['cnt']\n",
    "id_var = ['instant','dteday']"
   ]
  },
  {
   "cell_type": "markdown",
   "metadata": {},
   "source": [
    "### Univariate and Bivariate Analysis"
   ]
  },
  {
   "cell_type": "code",
   "execution_count": 8,
   "metadata": {
    "scrolled": true
   },
   "outputs": [
    {
     "data": {
      "text/html": [
       "<div>\n",
       "<style scoped>\n",
       "    .dataframe tbody tr th:only-of-type {\n",
       "        vertical-align: middle;\n",
       "    }\n",
       "\n",
       "    .dataframe tbody tr th {\n",
       "        vertical-align: top;\n",
       "    }\n",
       "\n",
       "    .dataframe thead th {\n",
       "        text-align: right;\n",
       "    }\n",
       "</style>\n",
       "<table border=\"1\" class=\"dataframe\">\n",
       "  <thead>\n",
       "    <tr style=\"text-align: right;\">\n",
       "      <th></th>\n",
       "      <th>level_0</th>\n",
       "      <th>level_1</th>\n",
       "      <th>0</th>\n",
       "    </tr>\n",
       "  </thead>\n",
       "  <tbody>\n",
       "    <tr>\n",
       "      <th>1</th>\n",
       "      <td>temp</td>\n",
       "      <td>atemp</td>\n",
       "      <td>0.991696</td>\n",
       "    </tr>\n",
       "    <tr>\n",
       "      <th>2</th>\n",
       "      <td>temp</td>\n",
       "      <td>hum</td>\n",
       "      <td>0.128565</td>\n",
       "    </tr>\n",
       "    <tr>\n",
       "      <th>9</th>\n",
       "      <td>hum</td>\n",
       "      <td>atemp</td>\n",
       "      <td>0.141512</td>\n",
       "    </tr>\n",
       "    <tr>\n",
       "      <th>12</th>\n",
       "      <td>windspeed</td>\n",
       "      <td>temp</td>\n",
       "      <td>-0.158186</td>\n",
       "    </tr>\n",
       "    <tr>\n",
       "      <th>13</th>\n",
       "      <td>windspeed</td>\n",
       "      <td>atemp</td>\n",
       "      <td>-0.183876</td>\n",
       "    </tr>\n",
       "    <tr>\n",
       "      <th>14</th>\n",
       "      <td>windspeed</td>\n",
       "      <td>hum</td>\n",
       "      <td>-0.248506</td>\n",
       "    </tr>\n",
       "  </tbody>\n",
       "</table>\n",
       "</div>"
      ],
      "text/plain": [
       "      level_0 level_1         0\n",
       "1        temp   atemp  0.991696\n",
       "2        temp     hum  0.128565\n",
       "9         hum   atemp  0.141512\n",
       "12  windspeed    temp -0.158186\n",
       "13  windspeed   atemp -0.183876\n",
       "14  windspeed     hum -0.248506"
      ]
     },
     "execution_count": 8,
     "metadata": {},
     "output_type": "execute_result"
    }
   ],
   "source": [
    "#correlation\n",
    "corr_mat = raw_data[numeric_var].corr().unstack().reset_index()\n",
    "corr_mat[corr_mat['level_0']>corr_mat['level_1']] "
   ]
  },
  {
   "cell_type": "markdown",
   "metadata": {},
   "source": [
    "Temp and atemp are highly correlated. Drop one of them."
   ]
  },
  {
   "cell_type": "code",
   "execution_count": 9,
   "metadata": {},
   "outputs": [],
   "source": [
    "drop_var = ['atemp']"
   ]
  },
  {
   "cell_type": "code",
   "execution_count": 10,
   "metadata": {},
   "outputs": [
    {
     "data": {
      "image/png": "[encoded data removed]",
      "text/plain": [
       "<Figure size 432x288 with 1 Axes>"
      ]
     },
     "metadata": {
      "needs_background": "light"
     },
     "output_type": "display_data"
    },
    {
     "data": {
      "image/png": "[encoded data removed]",
      "text/plain": [
       "<Figure size 432x288 with 1 Axes>"
      ]
     },
     "metadata": {
      "needs_background": "light"
     },
     "output_type": "display_data"
    },
    {
     "data": {
      "image/png": "[encoded data removed]",
      "text/plain": [
       "<Figure size 432x288 with 1 Axes>"
      ]
     },
     "metadata": {
      "needs_background": "light"
     },
     "output_type": "display_data"
    },
    {
     "data": {
      "image/png": "[encoded data removed]",
      "text/plain": [
       "<Figure size 432x288 with 1 Axes>"
      ]
     },
     "metadata": {
      "needs_background": "light"
     },
     "output_type": "display_data"
    },
    {
     "data": {
      "image/png": "[encoded data removed]",
      "text/plain": [
       "<Figure size 432x288 with 1 Axes>"
      ]
     },
     "metadata": {
      "needs_background": "light"
     },
     "output_type": "display_data"
    },
    {
     "data": {
      "image/png": "[encoded data removed]",
      "text/plain": [
       "<Figure size 432x288 with 1 Axes>"
      ]
     },
     "metadata": {
      "needs_background": "light"
     },
     "output_type": "display_data"
    },
    {
     "data": {
      "image/png": "[encoded data removed]",
      "text/plain": [
       "<Figure size 432x288 with 1 Axes>"
      ]
     },
     "metadata": {
      "needs_background": "light"
     },
     "output_type": "display_data"
    }
   ],
   "source": [
    "for i in cat_var:\n",
    "    raw_data.boxplot(by=i,column='cnt')"
   ]
  },
  {
   "cell_type": "markdown",
   "metadata": {},
   "source": [
    "Insights\n",
    "1. Lesser demand in Winter.\n",
    "2. Higher demand in year 2019.\n",
    "3. Lesser demand in winter months.\n",
    "4. Higher demand during holidays.\n",
    "5. Lesser demand when its snowing. Do not see any data with Weather Category 4\n"
   ]
  },
  {
   "cell_type": "markdown",
   "metadata": {},
   "source": [
    "### Generate dummy variables and join to main dataset"
   ]
  },
  {
   "cell_type": "code",
   "execution_count": 11,
   "metadata": {},
   "outputs": [],
   "source": [
    "season_dummies = pd.get_dummies(raw_data['season'], prefix='season',drop_first= True)\n",
    "mnth_dummies = pd.get_dummies(raw_data['mnth'], prefix='mnth',drop_first= True)\n",
    "weekday_dummies = pd.get_dummies(raw_data['weekday'], prefix='weekday',drop_first= True)\n",
    "weathersit_dummies = pd.get_dummies(raw_data['weathersit'], prefix='weathersit',drop_first= True)"
   ]
  },
  {
   "cell_type": "code",
   "execution_count": 12,
   "metadata": {
    "scrolled": true
   },
   "outputs": [],
   "source": [
    "data_clean=pd.concat([raw_data[numeric_var + ['yr','holiday','workingday'] + target_var],season_dummies],axis=1)\n",
    "data_clean=pd.concat([data_clean,mnth_dummies],axis=1)\n",
    "data_clean=pd.concat([data_clean,weekday_dummies],axis=1)\n",
    "data_clean=pd.concat([data_clean,weathersit_dummies],axis=1)\n"
   ]
  },
  {
   "cell_type": "code",
   "execution_count": 13,
   "metadata": {},
   "outputs": [
    {
     "name": "stdout",
     "output_type": "stream",
     "text": [
      "<class 'pandas.core.frame.DataFrame'>\n",
      "RangeIndex: 730 entries, 0 to 729\n",
      "Data columns (total 29 columns):\n",
      " #   Column        Non-Null Count  Dtype  \n",
      "---  ------        --------------  -----  \n",
      " 0   temp          730 non-null    float64\n",
      " 1   hum           730 non-null    float64\n",
      " 2   windspeed     730 non-null    float64\n",
      " 3   yr            730 non-null    int64  \n",
      " 4   holiday       730 non-null    int64  \n",
      " 5   workingday    730 non-null    int64  \n",
      " 6   cnt           730 non-null    int64  \n",
      " 7   season_2      730 non-null    uint8  \n",
      " 8   season_3      730 non-null    uint8  \n",
      " 9   season_4      730 non-null    uint8  \n",
      " 10  mnth_2        730 non-null    uint8  \n",
      " 11  mnth_3        730 non-null    uint8  \n",
      " 12  mnth_4        730 non-null    uint8  \n",
      " 13  mnth_5        730 non-null    uint8  \n",
      " 14  mnth_6        730 non-null    uint8  \n",
      " 15  mnth_7        730 non-null    uint8  \n",
      " 16  mnth_8        730 non-null    uint8  \n",
      " 17  mnth_9        730 non-null    uint8  \n",
      " 18  mnth_10       730 non-null    uint8  \n",
      " 19  mnth_11       730 non-null    uint8  \n",
      " 20  mnth_12       730 non-null    uint8  \n",
      " 21  weekday_1     730 non-null    uint8  \n",
      " 22  weekday_2     730 non-null    uint8  \n",
      " 23  weekday_3     730 non-null    uint8  \n",
      " 24  weekday_4     730 non-null    uint8  \n",
      " 25  weekday_5     730 non-null    uint8  \n",
      " 26  weekday_6     730 non-null    uint8  \n",
      " 27  weathersit_2  730 non-null    uint8  \n",
      " 28  weathersit_3  730 non-null    uint8  \n",
      "dtypes: float64(3), int64(4), uint8(22)\n",
      "memory usage: 55.7 KB\n"
     ]
    }
   ],
   "source": [
    "data_clean =data_clean.drop(columns=drop_var)\n",
    "data_clean.info()"
   ]
  },
  {
   "cell_type": "code",
   "execution_count": 14,
   "metadata": {},
   "outputs": [],
   "source": [
    "numeric_var = [x for x in numeric_var if x not in drop_var]"
   ]
  },
  {
   "cell_type": "code",
   "execution_count": 15,
   "metadata": {},
   "outputs": [],
   "source": [
    "indep_vars = [x for x in data_clean.columns if x not in target_var]"
   ]
  },
  {
   "cell_type": "code",
   "execution_count": 16,
   "metadata": {
    "scrolled": true
   },
   "outputs": [
    {
     "name": "stdout",
     "output_type": "stream",
     "text": [
      "<class 'pandas.core.frame.DataFrame'>\n",
      "RangeIndex: 730 entries, 0 to 729\n",
      "Data columns (total 29 columns):\n",
      " #   Column        Non-Null Count  Dtype  \n",
      "---  ------        --------------  -----  \n",
      " 0   temp          730 non-null    float64\n",
      " 1   hum           730 non-null    float64\n",
      " 2   windspeed     730 non-null    float64\n",
      " 3   yr            730 non-null    int64  \n",
      " 4   holiday       730 non-null    int64  \n",
      " 5   workingday    730 non-null    int64  \n",
      " 6   cnt           730 non-null    int64  \n",
      " 7   season_2      730 non-null    uint8  \n",
      " 8   season_3      730 non-null    uint8  \n",
      " 9   season_4      730 non-null    uint8  \n",
      " 10  mnth_2        730 non-null    uint8  \n",
      " 11  mnth_3        730 non-null    uint8  \n",
      " 12  mnth_4        730 non-null    uint8  \n",
      " 13  mnth_5        730 non-null    uint8  \n",
      " 14  mnth_6        730 non-null    uint8  \n",
      " 15  mnth_7        730 non-null    uint8  \n",
      " 16  mnth_8        730 non-null    uint8  \n",
      " 17  mnth_9        730 non-null    uint8  \n",
      " 18  mnth_10       730 non-null    uint8  \n",
      " 19  mnth_11       730 non-null    uint8  \n",
      " 20  mnth_12       730 non-null    uint8  \n",
      " 21  weekday_1     730 non-null    uint8  \n",
      " 22  weekday_2     730 non-null    uint8  \n",
      " 23  weekday_3     730 non-null    uint8  \n",
      " 24  weekday_4     730 non-null    uint8  \n",
      " 25  weekday_5     730 non-null    uint8  \n",
      " 26  weekday_6     730 non-null    uint8  \n",
      " 27  weathersit_2  730 non-null    uint8  \n",
      " 28  weathersit_3  730 non-null    uint8  \n",
      "dtypes: float64(3), int64(4), uint8(22)\n",
      "memory usage: 55.7 KB\n"
     ]
    }
   ],
   "source": [
    "data_clean.info()"
   ]
  },
  {
   "cell_type": "code",
   "execution_count": 17,
   "metadata": {},
   "outputs": [
    {
     "data": {
      "text/html": [
       "<div>\n",
       "<style scoped>\n",
       "    .dataframe tbody tr th:only-of-type {\n",
       "        vertical-align: middle;\n",
       "    }\n",
       "\n",
       "    .dataframe tbody tr th {\n",
       "        vertical-align: top;\n",
       "    }\n",
       "\n",
       "    .dataframe thead th {\n",
       "        text-align: right;\n",
       "    }\n",
       "</style>\n",
       "<table border=\"1\" class=\"dataframe\">\n",
       "  <thead>\n",
       "    <tr style=\"text-align: right;\">\n",
       "      <th></th>\n",
       "      <th>temp</th>\n",
       "      <th>hum</th>\n",
       "      <th>windspeed</th>\n",
       "      <th>yr</th>\n",
       "      <th>holiday</th>\n",
       "      <th>workingday</th>\n",
       "      <th>cnt</th>\n",
       "      <th>season_2</th>\n",
       "      <th>season_3</th>\n",
       "      <th>season_4</th>\n",
       "      <th>...</th>\n",
       "      <th>mnth_11</th>\n",
       "      <th>mnth_12</th>\n",
       "      <th>weekday_1</th>\n",
       "      <th>weekday_2</th>\n",
       "      <th>weekday_3</th>\n",
       "      <th>weekday_4</th>\n",
       "      <th>weekday_5</th>\n",
       "      <th>weekday_6</th>\n",
       "      <th>weathersit_2</th>\n",
       "      <th>weathersit_3</th>\n",
       "    </tr>\n",
       "  </thead>\n",
       "  <tbody>\n",
       "    <tr>\n",
       "      <th>0</th>\n",
       "      <td>14.110847</td>\n",
       "      <td>80.5833</td>\n",
       "      <td>10.749882</td>\n",
       "      <td>0</td>\n",
       "      <td>0</td>\n",
       "      <td>0</td>\n",
       "      <td>985</td>\n",
       "      <td>0</td>\n",
       "      <td>0</td>\n",
       "      <td>0</td>\n",
       "      <td>...</td>\n",
       "      <td>0</td>\n",
       "      <td>0</td>\n",
       "      <td>0</td>\n",
       "      <td>0</td>\n",
       "      <td>0</td>\n",
       "      <td>0</td>\n",
       "      <td>0</td>\n",
       "      <td>1</td>\n",
       "      <td>1</td>\n",
       "      <td>0</td>\n",
       "    </tr>\n",
       "    <tr>\n",
       "      <th>1</th>\n",
       "      <td>14.902598</td>\n",
       "      <td>69.6087</td>\n",
       "      <td>16.652113</td>\n",
       "      <td>0</td>\n",
       "      <td>0</td>\n",
       "      <td>0</td>\n",
       "      <td>801</td>\n",
       "      <td>0</td>\n",
       "      <td>0</td>\n",
       "      <td>0</td>\n",
       "      <td>...</td>\n",
       "      <td>0</td>\n",
       "      <td>0</td>\n",
       "      <td>0</td>\n",
       "      <td>0</td>\n",
       "      <td>0</td>\n",
       "      <td>0</td>\n",
       "      <td>0</td>\n",
       "      <td>0</td>\n",
       "      <td>1</td>\n",
       "      <td>0</td>\n",
       "    </tr>\n",
       "    <tr>\n",
       "      <th>2</th>\n",
       "      <td>8.050924</td>\n",
       "      <td>43.7273</td>\n",
       "      <td>16.636703</td>\n",
       "      <td>0</td>\n",
       "      <td>0</td>\n",
       "      <td>1</td>\n",
       "      <td>1349</td>\n",
       "      <td>0</td>\n",
       "      <td>0</td>\n",
       "      <td>0</td>\n",
       "      <td>...</td>\n",
       "      <td>0</td>\n",
       "      <td>0</td>\n",
       "      <td>1</td>\n",
       "      <td>0</td>\n",
       "      <td>0</td>\n",
       "      <td>0</td>\n",
       "      <td>0</td>\n",
       "      <td>0</td>\n",
       "      <td>0</td>\n",
       "      <td>0</td>\n",
       "    </tr>\n",
       "    <tr>\n",
       "      <th>3</th>\n",
       "      <td>8.200000</td>\n",
       "      <td>59.0435</td>\n",
       "      <td>10.739832</td>\n",
       "      <td>0</td>\n",
       "      <td>0</td>\n",
       "      <td>1</td>\n",
       "      <td>1562</td>\n",
       "      <td>0</td>\n",
       "      <td>0</td>\n",
       "      <td>0</td>\n",
       "      <td>...</td>\n",
       "      <td>0</td>\n",
       "      <td>0</td>\n",
       "      <td>0</td>\n",
       "      <td>1</td>\n",
       "      <td>0</td>\n",
       "      <td>0</td>\n",
       "      <td>0</td>\n",
       "      <td>0</td>\n",
       "      <td>0</td>\n",
       "      <td>0</td>\n",
       "    </tr>\n",
       "    <tr>\n",
       "      <th>4</th>\n",
       "      <td>9.305237</td>\n",
       "      <td>43.6957</td>\n",
       "      <td>12.522300</td>\n",
       "      <td>0</td>\n",
       "      <td>0</td>\n",
       "      <td>1</td>\n",
       "      <td>1600</td>\n",
       "      <td>0</td>\n",
       "      <td>0</td>\n",
       "      <td>0</td>\n",
       "      <td>...</td>\n",
       "      <td>0</td>\n",
       "      <td>0</td>\n",
       "      <td>0</td>\n",
       "      <td>0</td>\n",
       "      <td>1</td>\n",
       "      <td>0</td>\n",
       "      <td>0</td>\n",
       "      <td>0</td>\n",
       "      <td>0</td>\n",
       "      <td>0</td>\n",
       "    </tr>\n",
       "  </tbody>\n",
       "</table>\n",
       "<p>5 rows × 29 columns</p>\n",
       "</div>"
      ],
      "text/plain": [
       "        temp      hum  windspeed  yr  holiday  workingday   cnt  season_2  \\\n",
       "0  14.110847  80.5833  10.749882   0        0           0   985         0   \n",
       "1  14.902598  69.6087  16.652113   0        0           0   801         0   \n",
       "2   8.050924  43.7273  16.636703   0        0           1  1349         0   \n",
       "3   8.200000  59.0435  10.739832   0        0           1  1562         0   \n",
       "4   9.305237  43.6957  12.522300   0        0           1  1600         0   \n",
       "\n",
       "   season_3  season_4  ...  mnth_11  mnth_12  weekday_1  weekday_2  weekday_3  \\\n",
       "0         0         0  ...        0        0          0          0          0   \n",
       "1         0         0  ...        0        0          0          0          0   \n",
       "2         0         0  ...        0        0          1          0          0   \n",
       "3         0         0  ...        0        0          0          1          0   \n",
       "4         0         0  ...        0        0          0          0          1   \n",
       "\n",
       "   weekday_4  weekday_5  weekday_6  weathersit_2  weathersit_3  \n",
       "0          0          0          1             1             0  \n",
       "1          0          0          0             1             0  \n",
       "2          0          0          0             0             0  \n",
       "3          0          0          0             0             0  \n",
       "4          0          0          0             0             0  \n",
       "\n",
       "[5 rows x 29 columns]"
      ]
     },
     "execution_count": 17,
     "metadata": {},
     "output_type": "execute_result"
    }
   ],
   "source": [
    "data_clean.head()"
   ]
  },
  {
   "cell_type": "markdown",
   "metadata": {},
   "source": [
    "## 2. Modeling"
   ]
  },
  {
   "cell_type": "markdown",
   "metadata": {},
   "source": [
    "### create model dataset"
   ]
  },
  {
   "cell_type": "code",
   "execution_count": 18,
   "metadata": {
    "scrolled": true
   },
   "outputs": [
    {
     "name": "stdout",
     "output_type": "stream",
     "text": [
      "(510, 28)\n",
      "(219, 28)\n",
      "(510, 1)\n",
      "(219, 1)\n"
     ]
    }
   ],
   "source": [
    "x_train, x_test, y_train, y_test = train_test_split(data_clean[indep_vars], data_clean[target_var], train_size=0.7,test_size=0.3, random_state=42)\n",
    "print(x_train.shape)\n",
    "print(x_test.shape)\n",
    "print(y_train.shape)\n",
    "print(y_test.shape)"
   ]
  },
  {
   "cell_type": "markdown",
   "metadata": {},
   "source": [
    "### Scaling numeric and target variable"
   ]
  },
  {
   "cell_type": "code",
   "execution_count": 19,
   "metadata": {},
   "outputs": [],
   "source": [
    "scaler = MinMaxScaler()\n",
    "scaler2 = MinMaxScaler()"
   ]
  },
  {
   "cell_type": "code",
   "execution_count": 20,
   "metadata": {
    "scrolled": true
   },
   "outputs": [],
   "source": [
    "x_train[numeric_var] = scaler.fit_transform(x_train[numeric_var])\n",
    "y_train[target_var]=scaler2.fit_transform(y_train[target_var])\n",
    "x_test[numeric_var]=scaler.transform(x_test[numeric_var])\n",
    "y_test[target_var]=scaler2.transform(y_test[target_var])"
   ]
  },
  {
   "cell_type": "code",
   "execution_count": 21,
   "metadata": {},
   "outputs": [],
   "source": [
    "def build_model(X,y):\n",
    "    X = sm.add_constant(X) #using statsmodels\n",
    "    lm = sm.OLS(y,X).fit()\n",
    "    print(lm.summary())\n",
    "    return X\n",
    "    \n",
    "def check_vif(X):\n",
    "    vif = pd.DataFrame()\n",
    "    vif['Features'] = X.columns\n",
    "    vif['VIF'] = [variance_inflation_factor(X.values, i) for i in range(X.shape[1])]\n",
    "    vif['VIF'] = round(vif['VIF'], 2)\n",
    "    vif = vif.sort_values(by = \"VIF\", ascending = False)\n",
    "    return(vif)"
   ]
  },
  {
   "cell_type": "markdown",
   "metadata": {},
   "source": [
    "### Iteration 1"
   ]
  },
  {
   "cell_type": "code",
   "execution_count": 22,
   "metadata": {},
   "outputs": [
    {
     "name": "stdout",
     "output_type": "stream",
     "text": [
      "                            OLS Regression Results                            \n",
      "==============================================================================\n",
      "Dep. Variable:                    cnt   R-squared:                       0.847\n",
      "Model:                            OLS   Adj. R-squared:                  0.839\n",
      "Method:                 Least Squares   F-statistic:                     99.11\n",
      "Date:                Wed, 12 Jan 2022   Prob (F-statistic):          1.13e-177\n",
      "Time:                        22:41:54   Log-Likelihood:                 497.13\n",
      "No. Observations:                 510   AIC:                            -938.3\n",
      "Df Residuals:                     482   BIC:                            -819.7\n",
      "Df Model:                          27                                         \n",
      "Covariance Type:            nonrobust                                         \n",
      "================================================================================\n",
      "                   coef    std err          t      P>|t|      [0.025      0.975]\n",
      "--------------------------------------------------------------------------------\n",
      "const            0.1392      0.034      4.074      0.000       0.072       0.206\n",
      "temp             0.4490      0.049      9.236      0.000       0.353       0.545\n",
      "hum             -0.1611      0.041     -3.900      0.000      -0.242      -0.080\n",
      "windspeed       -0.1208      0.025     -4.821      0.000      -0.170      -0.072\n",
      "yr               0.2354      0.009     27.512      0.000       0.219       0.252\n",
      "holiday         -0.0386      0.024     -1.605      0.109      -0.086       0.009\n",
      "workingday       0.0394      0.010      4.057      0.000       0.020       0.058\n",
      "season_2         0.1602      0.029      5.504      0.000       0.103       0.217\n",
      "season_3         0.1479      0.033      4.536      0.000       0.084       0.212\n",
      "season_4         0.2246      0.028      8.103      0.000       0.170       0.279\n",
      "mnth_2           0.0162      0.021      0.769      0.442      -0.025       0.058\n",
      "mnth_3           0.0548      0.026      2.092      0.037       0.003       0.106\n",
      "mnth_4          -0.0017      0.038     -0.046      0.963      -0.076       0.072\n",
      "mnth_5           0.0269      0.040      0.672      0.502      -0.052       0.106\n",
      "mnth_6          -0.0064      0.042     -0.152      0.880      -0.089       0.076\n",
      "mnth_7          -0.0482      0.046     -1.051      0.294      -0.138       0.042\n",
      "mnth_8          -0.0174      0.045     -0.389      0.698      -0.105       0.070\n",
      "mnth_9           0.0699      0.039      1.780      0.076      -0.007       0.147\n",
      "mnth_10          0.0370      0.036      1.030      0.304      -0.034       0.108\n",
      "mnth_11         -0.0515      0.034     -1.516      0.130      -0.118       0.015\n",
      "mnth_12         -0.0386      0.027     -1.439      0.151      -0.091       0.014\n",
      "weekday_1       -0.0059      0.010     -0.573      0.567      -0.026       0.014\n",
      "weekday_2       -0.0157      0.012     -1.351      0.177      -0.039       0.007\n",
      "weekday_3        0.0031      0.012      0.266      0.791      -0.020       0.026\n",
      "weekday_4        0.0062      0.011      0.549      0.583      -0.016       0.028\n",
      "weekday_5        0.0131      0.012      1.123      0.262      -0.010       0.036\n",
      "weekday_6        0.0473      0.015      3.105      0.002       0.017       0.077\n",
      "weathersit_2    -0.0591      0.011     -5.315      0.000      -0.081      -0.037\n",
      "weathersit_3    -0.2306      0.028     -8.104      0.000      -0.287      -0.175\n",
      "==============================================================================\n",
      "Omnibus:                       82.650   Durbin-Watson:                   2.070\n",
      "Prob(Omnibus):                  0.000   Jarque-Bera (JB):              192.844\n",
      "Skew:                          -0.847   Prob(JB):                     1.33e-42\n",
      "Kurtosis:                       5.491   Cond. No.                     2.25e+15\n",
      "==============================================================================\n",
      "\n",
      "Notes:\n",
      "[1] Standard Errors assume that the covariance matrix of the errors is correctly specified.\n",
      "[2] The smallest eigenvalue is 3.26e-28. This might indicate that there are\n",
      "strong multicollinearity problems or that the design matrix is singular.\n"
     ]
    }
   ],
   "source": [
    "iter_1_x = build_model(x_train,y_train)"
   ]
  },
  {
   "cell_type": "markdown",
   "metadata": {},
   "source": [
    "Inference - Many insignificant variables (p >0.05) but good adjusted r-squared. Need Careful variable selection in next iterations"
   ]
  },
  {
   "cell_type": "code",
   "execution_count": 23,
   "metadata": {
    "scrolled": true
   },
   "outputs": [
    {
     "data": {
      "text/html": [
       "<div>\n",
       "<style scoped>\n",
       "    .dataframe tbody tr th:only-of-type {\n",
       "        vertical-align: middle;\n",
       "    }\n",
       "\n",
       "    .dataframe tbody tr th {\n",
       "        vertical-align: top;\n",
       "    }\n",
       "\n",
       "    .dataframe thead th {\n",
       "        text-align: right;\n",
       "    }\n",
       "</style>\n",
       "<table border=\"1\" class=\"dataframe\">\n",
       "  <thead>\n",
       "    <tr style=\"text-align: right;\">\n",
       "      <th></th>\n",
       "      <th>Features</th>\n",
       "      <th>VIF</th>\n",
       "    </tr>\n",
       "  </thead>\n",
       "  <tbody>\n",
       "    <tr>\n",
       "      <th>24</th>\n",
       "      <td>weekday_5</td>\n",
       "      <td>inf</td>\n",
       "    </tr>\n",
       "    <tr>\n",
       "      <th>23</th>\n",
       "      <td>weekday_4</td>\n",
       "      <td>inf</td>\n",
       "    </tr>\n",
       "    <tr>\n",
       "      <th>4</th>\n",
       "      <td>holiday</td>\n",
       "      <td>inf</td>\n",
       "    </tr>\n",
       "    <tr>\n",
       "      <th>5</th>\n",
       "      <td>workingday</td>\n",
       "      <td>inf</td>\n",
       "    </tr>\n",
       "    <tr>\n",
       "      <th>22</th>\n",
       "      <td>weekday_3</td>\n",
       "      <td>inf</td>\n",
       "    </tr>\n",
       "    <tr>\n",
       "      <th>21</th>\n",
       "      <td>weekday_2</td>\n",
       "      <td>inf</td>\n",
       "    </tr>\n",
       "    <tr>\n",
       "      <th>20</th>\n",
       "      <td>weekday_1</td>\n",
       "      <td>inf</td>\n",
       "    </tr>\n",
       "    <tr>\n",
       "      <th>0</th>\n",
       "      <td>temp</td>\n",
       "      <td>47.84</td>\n",
       "    </tr>\n",
       "    <tr>\n",
       "      <th>1</th>\n",
       "      <td>hum</td>\n",
       "      <td>20.82</td>\n",
       "    </tr>\n",
       "    <tr>\n",
       "      <th>7</th>\n",
       "      <td>season_3</td>\n",
       "      <td>15.95</td>\n",
       "    </tr>\n",
       "    <tr>\n",
       "      <th>6</th>\n",
       "      <td>season_2</td>\n",
       "      <td>12.55</td>\n",
       "    </tr>\n",
       "    <tr>\n",
       "      <th>8</th>\n",
       "      <td>season_4</td>\n",
       "      <td>11.15</td>\n",
       "    </tr>\n",
       "    <tr>\n",
       "      <th>14</th>\n",
       "      <td>mnth_7</td>\n",
       "      <td>11.08</td>\n",
       "    </tr>\n",
       "    <tr>\n",
       "      <th>13</th>\n",
       "      <td>mnth_6</td>\n",
       "      <td>8.58</td>\n",
       "    </tr>\n",
       "    <tr>\n",
       "      <th>12</th>\n",
       "      <td>mnth_5</td>\n",
       "      <td>8.55</td>\n",
       "    </tr>\n",
       "    <tr>\n",
       "      <th>15</th>\n",
       "      <td>mnth_8</td>\n",
       "      <td>8.55</td>\n",
       "    </tr>\n",
       "    <tr>\n",
       "      <th>16</th>\n",
       "      <td>mnth_9</td>\n",
       "      <td>7.99</td>\n",
       "    </tr>\n",
       "    <tr>\n",
       "      <th>11</th>\n",
       "      <td>mnth_4</td>\n",
       "      <td>6.83</td>\n",
       "    </tr>\n",
       "    <tr>\n",
       "      <th>17</th>\n",
       "      <td>mnth_10</td>\n",
       "      <td>6.68</td>\n",
       "    </tr>\n",
       "    <tr>\n",
       "      <th>18</th>\n",
       "      <td>mnth_11</td>\n",
       "      <td>6.04</td>\n",
       "    </tr>\n",
       "    <tr>\n",
       "      <th>2</th>\n",
       "      <td>windspeed</td>\n",
       "      <td>5.20</td>\n",
       "    </tr>\n",
       "    <tr>\n",
       "      <th>19</th>\n",
       "      <td>mnth_12</td>\n",
       "      <td>3.01</td>\n",
       "    </tr>\n",
       "    <tr>\n",
       "      <th>10</th>\n",
       "      <td>mnth_3</td>\n",
       "      <td>2.38</td>\n",
       "    </tr>\n",
       "    <tr>\n",
       "      <th>26</th>\n",
       "      <td>weathersit_2</td>\n",
       "      <td>2.17</td>\n",
       "    </tr>\n",
       "    <tr>\n",
       "      <th>3</th>\n",
       "      <td>yr</td>\n",
       "      <td>2.12</td>\n",
       "    </tr>\n",
       "    <tr>\n",
       "      <th>25</th>\n",
       "      <td>weekday_6</td>\n",
       "      <td>1.91</td>\n",
       "    </tr>\n",
       "    <tr>\n",
       "      <th>9</th>\n",
       "      <td>mnth_2</td>\n",
       "      <td>1.79</td>\n",
       "    </tr>\n",
       "    <tr>\n",
       "      <th>27</th>\n",
       "      <td>weathersit_3</td>\n",
       "      <td>1.25</td>\n",
       "    </tr>\n",
       "  </tbody>\n",
       "</table>\n",
       "</div>"
      ],
      "text/plain": [
       "        Features    VIF\n",
       "24     weekday_5    inf\n",
       "23     weekday_4    inf\n",
       "4        holiday    inf\n",
       "5     workingday    inf\n",
       "22     weekday_3    inf\n",
       "21     weekday_2    inf\n",
       "20     weekday_1    inf\n",
       "0           temp  47.84\n",
       "1            hum  20.82\n",
       "7       season_3  15.95\n",
       "6       season_2  12.55\n",
       "8       season_4  11.15\n",
       "14        mnth_7  11.08\n",
       "13        mnth_6   8.58\n",
       "12        mnth_5   8.55\n",
       "15        mnth_8   8.55\n",
       "16        mnth_9   7.99\n",
       "11        mnth_4   6.83\n",
       "17       mnth_10   6.68\n",
       "18       mnth_11   6.04\n",
       "2      windspeed   5.20\n",
       "19       mnth_12   3.01\n",
       "10        mnth_3   2.38\n",
       "26  weathersit_2   2.17\n",
       "3             yr   2.12\n",
       "25     weekday_6   1.91\n",
       "9         mnth_2   1.79\n",
       "27  weathersit_3   1.25"
      ]
     },
     "execution_count": 23,
     "metadata": {},
     "output_type": "execute_result"
    }
   ],
   "source": [
    "check_vif(x_train)"
   ]
  },
  {
   "cell_type": "code",
   "execution_count": 24,
   "metadata": {},
   "outputs": [],
   "source": [
    "#inf in vif shows perfect linear combination. Weekdays are perfect linear combination of holidays and working days. Hence lets drop holidays\n",
    "x_train = x_train.drop(columns = ['holiday'])\n",
    "x_test = x_test.drop(columns = ['holiday'])"
   ]
  },
  {
   "cell_type": "markdown",
   "metadata": {},
   "source": [
    "### Iteration2 - RFE"
   ]
  },
  {
   "cell_type": "code",
   "execution_count": 25,
   "metadata": {},
   "outputs": [
    {
     "data": {
      "text/plain": [
       "(['temp',\n",
       "  'hum',\n",
       "  'windspeed',\n",
       "  'yr',\n",
       "  'workingday',\n",
       "  'season_2',\n",
       "  'season_3',\n",
       "  'season_4',\n",
       "  'mnth_3',\n",
       "  'mnth_9',\n",
       "  'mnth_11',\n",
       "  'mnth_12',\n",
       "  'weekday_6',\n",
       "  'weathersit_2',\n",
       "  'weathersit_3'],\n",
       " [Index(['mnth_2', 'mnth_4', 'mnth_5', 'mnth_6', 'mnth_7', 'mnth_8', 'mnth_10',\n",
       "         'weekday_1', 'weekday_2', 'weekday_3', 'weekday_4', 'weekday_5'],\n",
       "        dtype='object')])"
      ]
     },
     "execution_count": 25,
     "metadata": {},
     "output_type": "execute_result"
    }
   ],
   "source": [
    "lm = LinearRegression()\n",
    "lm.fit(x_train,y_train)\n",
    "\n",
    "rfe = RFE(lm, 15)            \n",
    "rfe = rfe.fit(x_train, y_train)\n",
    "rfe_cols = x_train.columns[rfe.support_].to_list()\n",
    "rfe_cols, [x_train.columns[~rfe.support_]]"
   ]
  },
  {
   "cell_type": "code",
   "execution_count": 26,
   "metadata": {
    "scrolled": true
   },
   "outputs": [
    {
     "name": "stdout",
     "output_type": "stream",
     "text": [
      "                            OLS Regression Results                            \n",
      "==============================================================================\n",
      "Dep. Variable:                    cnt   R-squared:                       0.842\n",
      "Model:                            OLS   Adj. R-squared:                  0.837\n",
      "Method:                 Least Squares   F-statistic:                     175.8\n",
      "Date:                Wed, 12 Jan 2022   Prob (F-statistic):          5.72e-187\n",
      "Time:                        22:41:54   Log-Likelihood:                 488.66\n",
      "No. Observations:                 510   AIC:                            -945.3\n",
      "Df Residuals:                     494   BIC:                            -877.6\n",
      "Df Model:                          15                                         \n",
      "Covariance Type:            nonrobust                                         \n",
      "================================================================================\n",
      "                   coef    std err          t      P>|t|      [0.025      0.975]\n",
      "--------------------------------------------------------------------------------\n",
      "const            0.1358      0.032      4.213      0.000       0.072       0.199\n",
      "temp             0.4346      0.037     11.818      0.000       0.362       0.507\n",
      "hum             -0.1481      0.040     -3.722      0.000      -0.226      -0.070\n",
      "windspeed       -0.1204      0.025     -4.850      0.000      -0.169      -0.072\n",
      "yr               0.2364      0.008     27.834      0.000       0.220       0.253\n",
      "workingday       0.0481      0.011      4.292      0.000       0.026       0.070\n",
      "season_2         0.1641      0.017      9.784      0.000       0.131       0.197\n",
      "season_3         0.1207      0.023      5.318      0.000       0.076       0.165\n",
      "season_4         0.2438      0.017     14.228      0.000       0.210       0.277\n",
      "mnth_3           0.0483      0.018      2.650      0.008       0.012       0.084\n",
      "mnth_9           0.0814      0.016      5.037      0.000       0.050       0.113\n",
      "mnth_11         -0.0784      0.019     -4.066      0.000      -0.116      -0.040\n",
      "mnth_12         -0.0603      0.018     -3.319      0.001      -0.096      -0.025\n",
      "weekday_6        0.0563      0.015      3.842      0.000       0.028       0.085\n",
      "weathersit_2    -0.0605      0.011     -5.488      0.000      -0.082      -0.039\n",
      "weathersit_3    -0.2357      0.028     -8.357      0.000      -0.291      -0.180\n",
      "==============================================================================\n",
      "Omnibus:                       82.830   Durbin-Watson:                   2.027\n",
      "Prob(Omnibus):                  0.000   Jarque-Bera (JB):              182.971\n",
      "Skew:                          -0.869   Prob(JB):                     1.86e-40\n",
      "Kurtosis:                       5.365   Cond. No.                         21.8\n",
      "==============================================================================\n",
      "\n",
      "Notes:\n",
      "[1] Standard Errors assume that the covariance matrix of the errors is correctly specified.\n"
     ]
    }
   ],
   "source": [
    "iter_2_x = build_model(x_train[rfe_cols], y_train)"
   ]
  },
  {
   "cell_type": "code",
   "execution_count": 27,
   "metadata": {
    "scrolled": true
   },
   "outputs": [
    {
     "data": {
      "text/html": [
       "<div>\n",
       "<style scoped>\n",
       "    .dataframe tbody tr th:only-of-type {\n",
       "        vertical-align: middle;\n",
       "    }\n",
       "\n",
       "    .dataframe tbody tr th {\n",
       "        vertical-align: top;\n",
       "    }\n",
       "\n",
       "    .dataframe thead th {\n",
       "        text-align: right;\n",
       "    }\n",
       "</style>\n",
       "<table border=\"1\" class=\"dataframe\">\n",
       "  <thead>\n",
       "    <tr style=\"text-align: right;\">\n",
       "      <th></th>\n",
       "      <th>Features</th>\n",
       "      <th>VIF</th>\n",
       "    </tr>\n",
       "  </thead>\n",
       "  <tbody>\n",
       "    <tr>\n",
       "      <th>0</th>\n",
       "      <td>const</td>\n",
       "      <td>59.61</td>\n",
       "    </tr>\n",
       "    <tr>\n",
       "      <th>7</th>\n",
       "      <td>season_3</td>\n",
       "      <td>5.69</td>\n",
       "    </tr>\n",
       "    <tr>\n",
       "      <th>1</th>\n",
       "      <td>temp</td>\n",
       "      <td>4.00</td>\n",
       "    </tr>\n",
       "    <tr>\n",
       "      <th>8</th>\n",
       "      <td>season_4</td>\n",
       "      <td>3.16</td>\n",
       "    </tr>\n",
       "    <tr>\n",
       "      <th>6</th>\n",
       "      <td>season_2</td>\n",
       "      <td>3.08</td>\n",
       "    </tr>\n",
       "    <tr>\n",
       "      <th>2</th>\n",
       "      <td>hum</td>\n",
       "      <td>1.87</td>\n",
       "    </tr>\n",
       "    <tr>\n",
       "      <th>11</th>\n",
       "      <td>mnth_11</td>\n",
       "      <td>1.78</td>\n",
       "    </tr>\n",
       "    <tr>\n",
       "      <th>5</th>\n",
       "      <td>workingday</td>\n",
       "      <td>1.60</td>\n",
       "    </tr>\n",
       "    <tr>\n",
       "      <th>13</th>\n",
       "      <td>weekday_6</td>\n",
       "      <td>1.58</td>\n",
       "    </tr>\n",
       "    <tr>\n",
       "      <th>14</th>\n",
       "      <td>weathersit_2</td>\n",
       "      <td>1.58</td>\n",
       "    </tr>\n",
       "    <tr>\n",
       "      <th>12</th>\n",
       "      <td>mnth_12</td>\n",
       "      <td>1.31</td>\n",
       "    </tr>\n",
       "    <tr>\n",
       "      <th>15</th>\n",
       "      <td>weathersit_3</td>\n",
       "      <td>1.30</td>\n",
       "    </tr>\n",
       "    <tr>\n",
       "      <th>10</th>\n",
       "      <td>mnth_9</td>\n",
       "      <td>1.23</td>\n",
       "    </tr>\n",
       "    <tr>\n",
       "      <th>3</th>\n",
       "      <td>windspeed</td>\n",
       "      <td>1.22</td>\n",
       "    </tr>\n",
       "    <tr>\n",
       "      <th>9</th>\n",
       "      <td>mnth_3</td>\n",
       "      <td>1.12</td>\n",
       "    </tr>\n",
       "    <tr>\n",
       "      <th>4</th>\n",
       "      <td>yr</td>\n",
       "      <td>1.03</td>\n",
       "    </tr>\n",
       "  </tbody>\n",
       "</table>\n",
       "</div>"
      ],
      "text/plain": [
       "        Features    VIF\n",
       "0          const  59.61\n",
       "7       season_3   5.69\n",
       "1           temp   4.00\n",
       "8       season_4   3.16\n",
       "6       season_2   3.08\n",
       "2            hum   1.87\n",
       "11       mnth_11   1.78\n",
       "5     workingday   1.60\n",
       "13     weekday_6   1.58\n",
       "14  weathersit_2   1.58\n",
       "12       mnth_12   1.31\n",
       "15  weathersit_3   1.30\n",
       "10        mnth_9   1.23\n",
       "3      windspeed   1.22\n",
       "9         mnth_3   1.12\n",
       "4             yr   1.03"
      ]
     },
     "execution_count": 27,
     "metadata": {},
     "output_type": "execute_result"
    }
   ],
   "source": [
    "check_vif(iter_2_x)"
   ]
  },
  {
   "cell_type": "markdown",
   "metadata": {},
   "source": [
    "Looks like we already have a good model. 85% Adj RSquared, All P values less 0.05 and no correlated variables. \n",
    "Lets analyse residuals"
   ]
  },
  {
   "cell_type": "markdown",
   "metadata": {},
   "source": [
    "## 3. Residual Analysis"
   ]
  },
  {
   "cell_type": "code",
   "execution_count": 28,
   "metadata": {
    "scrolled": false
   },
   "outputs": [
    {
     "data": {
      "text/plain": [
       "<AxesSubplot:ylabel='Density'>"
      ]
     },
     "execution_count": 28,
     "metadata": {},
     "output_type": "execute_result"
    },
    {
     "data": {
      "image/png": "[encoded data removed]",
      "text/plain": [
       "<Figure size 432x288 with 1 Axes>"
      ]
     },
     "metadata": {
      "needs_background": "light"
     },
     "output_type": "display_data"
    }
   ],
   "source": [
    "lm1 = sm.OLS(y_train,iter_2_x).fit() \n",
    "y_train_pred = lm1.predict(iter_2_x)\n",
    "fig = plt.figure()\n",
    "sns.distplot((y_train['cnt'] - y_train_pred), bins = 20)"
   ]
  },
  {
   "cell_type": "code",
   "execution_count": 29,
   "metadata": {},
   "outputs": [],
   "source": [
    "## Error terms are normal"
   ]
  },
  {
   "cell_type": "markdown",
   "metadata": {},
   "source": [
    "## 4.Test Prediction"
   ]
  },
  {
   "cell_type": "code",
   "execution_count": 30,
   "metadata": {},
   "outputs": [],
   "source": [
    "selected_cols = [x for x in iter_2_x.columns if x not in ['const']]"
   ]
  },
  {
   "cell_type": "code",
   "execution_count": 31,
   "metadata": {},
   "outputs": [],
   "source": [
    "x_test_1 = x_test[selected_cols]\n",
    "# Adding a constant variable \n",
    "x_test_1 = sm.add_constant(x_test_1)"
   ]
  },
  {
   "cell_type": "code",
   "execution_count": 32,
   "metadata": {},
   "outputs": [],
   "source": [
    "y_test_pred = lm1.predict(x_test_1)"
   ]
  },
  {
   "cell_type": "code",
   "execution_count": 33,
   "metadata": {
    "scrolled": false
   },
   "outputs": [
    {
     "data": {
      "text/plain": [
       "Text(0, 0.5, 'y_pred')"
      ]
     },
     "execution_count": 33,
     "metadata": {},
     "output_type": "execute_result"
    },
    {
     "data": {
      "image/png": "[encoded data removed]",
      "text/plain": [
       "<Figure size 432x288 with 1 Axes>"
      ]
     },
     "metadata": {
      "needs_background": "light"
     },
     "output_type": "display_data"
    }
   ],
   "source": [
    "fig = plt.figure()\n",
    "plt.scatter(y_test, y_test_pred)\n",
    "fig.suptitle('y_test vs y_pred', fontsize = 20)              # Plot heading \n",
    "plt.xlabel('y_test', fontsize = 18)                          # X-label\n",
    "plt.ylabel('y_pred', fontsize = 16)  "
   ]
  },
  {
   "cell_type": "code",
   "execution_count": 34,
   "metadata": {
    "scrolled": false
   },
   "outputs": [
    {
     "data": {
      "text/plain": [
       "0.8321720926101541"
      ]
     },
     "execution_count": 34,
     "metadata": {},
     "output_type": "execute_result"
    }
   ],
   "source": [
    "from sklearn.metrics import r2_score\n",
    "r2_score(y_test, y_test_pred)"
   ]
  },
  {
   "cell_type": "code",
   "execution_count": 35,
   "metadata": {
    "scrolled": true
   },
   "outputs": [
    {
     "name": "stdout",
     "output_type": "stream",
     "text": [
      "0.8188787930149188\n"
     ]
    }
   ],
   "source": [
    "#adjusted r2_score\n",
    "print(1-(1-r2_score(y_test, y_test_pred))*((len(x_test_1)-1)/(len(x_test_1)-x_test_1.shape[1]-1)))"
   ]
  },
  {
   "cell_type": "code",
   "execution_count": 36,
   "metadata": {},
   "outputs": [
    {
     "data": {
      "text/html": [
       "<table class=\"simpletable\">\n",
       "<caption>OLS Regression Results</caption>\n",
       "<tr>\n",
       "  <th>Dep. Variable:</th>           <td>cnt</td>       <th>  R-squared:         </th> <td>   0.842</td> \n",
       "</tr>\n",
       "<tr>\n",
       "  <th>Model:</th>                   <td>OLS</td>       <th>  Adj. R-squared:    </th> <td>   0.837</td> \n",
       "</tr>\n",
       "<tr>\n",
       "  <th>Method:</th>             <td>Least Squares</td>  <th>  F-statistic:       </th> <td>   175.8</td> \n",
       "</tr>\n",
       "<tr>\n",
       "  <th>Date:</th>             <td>Wed, 12 Jan 2022</td> <th>  Prob (F-statistic):</th> <td>5.72e-187</td>\n",
       "</tr>\n",
       "<tr>\n",
       "  <th>Time:</th>                 <td>22:41:55</td>     <th>  Log-Likelihood:    </th> <td>  488.66</td> \n",
       "</tr>\n",
       "<tr>\n",
       "  <th>No. Observations:</th>      <td>   510</td>      <th>  AIC:               </th> <td>  -945.3</td> \n",
       "</tr>\n",
       "<tr>\n",
       "  <th>Df Residuals:</th>          <td>   494</td>      <th>  BIC:               </th> <td>  -877.6</td> \n",
       "</tr>\n",
       "<tr>\n",
       "  <th>Df Model:</th>              <td>    15</td>      <th>                     </th>     <td> </td>    \n",
       "</tr>\n",
       "<tr>\n",
       "  <th>Covariance Type:</th>      <td>nonrobust</td>    <th>                     </th>     <td> </td>    \n",
       "</tr>\n",
       "</table>\n",
       "<table class=\"simpletable\">\n",
       "<tr>\n",
       "        <td></td>          <th>coef</th>     <th>std err</th>      <th>t</th>      <th>P>|t|</th>  <th>[0.025</th>    <th>0.975]</th>  \n",
       "</tr>\n",
       "<tr>\n",
       "  <th>const</th>        <td>    0.1358</td> <td>    0.032</td> <td>    4.213</td> <td> 0.000</td> <td>    0.072</td> <td>    0.199</td>\n",
       "</tr>\n",
       "<tr>\n",
       "  <th>temp</th>         <td>    0.4346</td> <td>    0.037</td> <td>   11.818</td> <td> 0.000</td> <td>    0.362</td> <td>    0.507</td>\n",
       "</tr>\n",
       "<tr>\n",
       "  <th>hum</th>          <td>   -0.1481</td> <td>    0.040</td> <td>   -3.722</td> <td> 0.000</td> <td>   -0.226</td> <td>   -0.070</td>\n",
       "</tr>\n",
       "<tr>\n",
       "  <th>windspeed</th>    <td>   -0.1204</td> <td>    0.025</td> <td>   -4.850</td> <td> 0.000</td> <td>   -0.169</td> <td>   -0.072</td>\n",
       "</tr>\n",
       "<tr>\n",
       "  <th>yr</th>           <td>    0.2364</td> <td>    0.008</td> <td>   27.834</td> <td> 0.000</td> <td>    0.220</td> <td>    0.253</td>\n",
       "</tr>\n",
       "<tr>\n",
       "  <th>workingday</th>   <td>    0.0481</td> <td>    0.011</td> <td>    4.292</td> <td> 0.000</td> <td>    0.026</td> <td>    0.070</td>\n",
       "</tr>\n",
       "<tr>\n",
       "  <th>season_2</th>     <td>    0.1641</td> <td>    0.017</td> <td>    9.784</td> <td> 0.000</td> <td>    0.131</td> <td>    0.197</td>\n",
       "</tr>\n",
       "<tr>\n",
       "  <th>season_3</th>     <td>    0.1207</td> <td>    0.023</td> <td>    5.318</td> <td> 0.000</td> <td>    0.076</td> <td>    0.165</td>\n",
       "</tr>\n",
       "<tr>\n",
       "  <th>season_4</th>     <td>    0.2438</td> <td>    0.017</td> <td>   14.228</td> <td> 0.000</td> <td>    0.210</td> <td>    0.277</td>\n",
       "</tr>\n",
       "<tr>\n",
       "  <th>mnth_3</th>       <td>    0.0483</td> <td>    0.018</td> <td>    2.650</td> <td> 0.008</td> <td>    0.012</td> <td>    0.084</td>\n",
       "</tr>\n",
       "<tr>\n",
       "  <th>mnth_9</th>       <td>    0.0814</td> <td>    0.016</td> <td>    5.037</td> <td> 0.000</td> <td>    0.050</td> <td>    0.113</td>\n",
       "</tr>\n",
       "<tr>\n",
       "  <th>mnth_11</th>      <td>   -0.0784</td> <td>    0.019</td> <td>   -4.066</td> <td> 0.000</td> <td>   -0.116</td> <td>   -0.040</td>\n",
       "</tr>\n",
       "<tr>\n",
       "  <th>mnth_12</th>      <td>   -0.0603</td> <td>    0.018</td> <td>   -3.319</td> <td> 0.001</td> <td>   -0.096</td> <td>   -0.025</td>\n",
       "</tr>\n",
       "<tr>\n",
       "  <th>weekday_6</th>    <td>    0.0563</td> <td>    0.015</td> <td>    3.842</td> <td> 0.000</td> <td>    0.028</td> <td>    0.085</td>\n",
       "</tr>\n",
       "<tr>\n",
       "  <th>weathersit_2</th> <td>   -0.0605</td> <td>    0.011</td> <td>   -5.488</td> <td> 0.000</td> <td>   -0.082</td> <td>   -0.039</td>\n",
       "</tr>\n",
       "<tr>\n",
       "  <th>weathersit_3</th> <td>   -0.2357</td> <td>    0.028</td> <td>   -8.357</td> <td> 0.000</td> <td>   -0.291</td> <td>   -0.180</td>\n",
       "</tr>\n",
       "</table>\n",
       "<table class=\"simpletable\">\n",
       "<tr>\n",
       "  <th>Omnibus:</th>       <td>82.830</td> <th>  Durbin-Watson:     </th> <td>   2.027</td>\n",
       "</tr>\n",
       "<tr>\n",
       "  <th>Prob(Omnibus):</th> <td> 0.000</td> <th>  Jarque-Bera (JB):  </th> <td> 182.971</td>\n",
       "</tr>\n",
       "<tr>\n",
       "  <th>Skew:</th>          <td>-0.869</td> <th>  Prob(JB):          </th> <td>1.86e-40</td>\n",
       "</tr>\n",
       "<tr>\n",
       "  <th>Kurtosis:</th>      <td> 5.365</td> <th>  Cond. No.          </th> <td>    21.8</td>\n",
       "</tr>\n",
       "</table><br/><br/>Notes:<br/>[1] Standard Errors assume that the covariance matrix of the errors is correctly specified."
      ],
      "text/plain": [
       "<class 'statsmodels.iolib.summary.Summary'>\n",
       "\"\"\"\n",
       "                            OLS Regression Results                            \n",
       "==============================================================================\n",
       "Dep. Variable:                    cnt   R-squared:                       0.842\n",
       "Model:                            OLS   Adj. R-squared:                  0.837\n",
       "Method:                 Least Squares   F-statistic:                     175.8\n",
       "Date:                Wed, 12 Jan 2022   Prob (F-statistic):          5.72e-187\n",
       "Time:                        22:41:55   Log-Likelihood:                 488.66\n",
       "No. Observations:                 510   AIC:                            -945.3\n",
       "Df Residuals:                     494   BIC:                            -877.6\n",
       "Df Model:                          15                                         \n",
       "Covariance Type:            nonrobust                                         \n",
       "================================================================================\n",
       "                   coef    std err          t      P>|t|      [0.025      0.975]\n",
       "--------------------------------------------------------------------------------\n",
       "const            0.1358      0.032      4.213      0.000       0.072       0.199\n",
       "temp             0.4346      0.037     11.818      0.000       0.362       0.507\n",
       "hum             -0.1481      0.040     -3.722      0.000      -0.226      -0.070\n",
       "windspeed       -0.1204      0.025     -4.850      0.000      -0.169      -0.072\n",
       "yr               0.2364      0.008     27.834      0.000       0.220       0.253\n",
       "workingday       0.0481      0.011      4.292      0.000       0.026       0.070\n",
       "season_2         0.1641      0.017      9.784      0.000       0.131       0.197\n",
       "season_3         0.1207      0.023      5.318      0.000       0.076       0.165\n",
       "season_4         0.2438      0.017     14.228      0.000       0.210       0.277\n",
       "mnth_3           0.0483      0.018      2.650      0.008       0.012       0.084\n",
       "mnth_9           0.0814      0.016      5.037      0.000       0.050       0.113\n",
       "mnth_11         -0.0784      0.019     -4.066      0.000      -0.116      -0.040\n",
       "mnth_12         -0.0603      0.018     -3.319      0.001      -0.096      -0.025\n",
       "weekday_6        0.0563      0.015      3.842      0.000       0.028       0.085\n",
       "weathersit_2    -0.0605      0.011     -5.488      0.000      -0.082      -0.039\n",
       "weathersit_3    -0.2357      0.028     -8.357      0.000      -0.291      -0.180\n",
       "==============================================================================\n",
       "Omnibus:                       82.830   Durbin-Watson:                   2.027\n",
       "Prob(Omnibus):                  0.000   Jarque-Bera (JB):              182.971\n",
       "Skew:                          -0.869   Prob(JB):                     1.86e-40\n",
       "Kurtosis:                       5.365   Cond. No.                         21.8\n",
       "==============================================================================\n",
       "\n",
       "Notes:\n",
       "[1] Standard Errors assume that the covariance matrix of the errors is correctly specified.\n",
       "\"\"\""
      ]
     },
     "execution_count": 36,
     "metadata": {},
     "output_type": "execute_result"
    }
   ],
   "source": [
    "lm1.summary()"
   ]
  },
  {
   "cell_type": "markdown",
   "metadata": {},
   "source": [
    "## 5.Conclusion"
   ]
  },
  {
   "cell_type": "markdown",
   "metadata": {},
   "source": [
    "Our Equation is \n",
    "cnt = 0.1358 * const + 0.4346 * temp - 0.1481 * hum - 0.1204 * windspeed + 0.2364 * yt +  0.0481 * workingday + \n",
    "0.1641*season_2 + 0.1207 *season_3 + 0.2438 * season_4 + 0.0483 * mnth_3 + 0.0814 * mnth_9  - 00784 * mnth_11  - \n",
    "0.0603 * mnth_12 + 0.0563  * weekday_6 - 0.0605 * weathersit_2 - 0.2357 * weathersit_3"
   ]
  },
  {
   "cell_type": "markdown",
   "metadata": {},
   "source": [
    "The top 5 variables effecting the count of rentals are :\n",
    "    1. Temp\n",
    "    2. Season - 4.Winter , 2.Summer\n",
    "    3. Weather - 3. LightSnow\n",
    "    4. year\n",
    "    5. Humidity\n",
    "\n"
   ]
  }
 ],
 "metadata": {
  "kernelspec": {
   "display_name": "Python 3",
   "language": "python",
   "name": "python3"
  },
  "language_info": {
   "codemirror_mode": {
    "name": "ipython",
    "version": 3
   },
   "file_extension": ".py",
   "mimetype": "text/x-python",
   "name": "python",
   "nbconvert_exporter": "python",
   "pygments_lexer": "ipython3",
   "version": "3.8.5"
  }
 },
 "nbformat": 4,
 "nbformat_minor": 4
}
